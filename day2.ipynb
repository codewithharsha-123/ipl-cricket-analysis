{
 "cells": [
  {
   "cell_type": "markdown",
   "id": "70aa9efd-9ada-4028-9529-ee6353d5ef55",
   "metadata": {},
   "source": [
    "# day2 some basic analysis on matches dataset"
   ]
  },
  {
   "cell_type": "code",
   "execution_count": 52,
   "id": "22486091-40c3-4f7c-9333-4bfed67bd077",
   "metadata": {},
   "outputs": [
    {
     "data": {
      "text/html": [
       "<div>\n",
       "<style scoped>\n",
       "    .dataframe tbody tr th:only-of-type {\n",
       "        vertical-align: middle;\n",
       "    }\n",
       "\n",
       "    .dataframe tbody tr th {\n",
       "        vertical-align: top;\n",
       "    }\n",
       "\n",
       "    .dataframe thead th {\n",
       "        text-align: right;\n",
       "    }\n",
       "</style>\n",
       "<table border=\"1\" class=\"dataframe\">\n",
       "  <thead>\n",
       "    <tr style=\"text-align: right;\">\n",
       "      <th></th>\n",
       "      <th>id</th>\n",
       "      <th>season</th>\n",
       "      <th>city</th>\n",
       "      <th>date</th>\n",
       "      <th>match_type</th>\n",
       "      <th>player_of_match</th>\n",
       "      <th>venue</th>\n",
       "      <th>team1</th>\n",
       "      <th>team2</th>\n",
       "      <th>toss_winner</th>\n",
       "      <th>toss_decision</th>\n",
       "      <th>winner</th>\n",
       "      <th>result</th>\n",
       "      <th>result_margin</th>\n",
       "      <th>target_runs</th>\n",
       "      <th>target_overs</th>\n",
       "      <th>super_over</th>\n",
       "      <th>method</th>\n",
       "      <th>umpire1</th>\n",
       "      <th>umpire2</th>\n",
       "    </tr>\n",
       "  </thead>\n",
       "  <tbody>\n",
       "    <tr>\n",
       "      <th>0</th>\n",
       "      <td>335982</td>\n",
       "      <td>2007/08</td>\n",
       "      <td>Bangalore</td>\n",
       "      <td>18-04-2008</td>\n",
       "      <td>League</td>\n",
       "      <td>BB McCullum</td>\n",
       "      <td>M Chinnaswamy Stadium</td>\n",
       "      <td>Royal Challengers Bangalore</td>\n",
       "      <td>Kolkata Knight Riders</td>\n",
       "      <td>Royal Challengers Bangalore</td>\n",
       "      <td>field</td>\n",
       "      <td>Kolkata Knight Riders</td>\n",
       "      <td>runs</td>\n",
       "      <td>140.0</td>\n",
       "      <td>223.0</td>\n",
       "      <td>20.0</td>\n",
       "      <td>N</td>\n",
       "      <td>Normal</td>\n",
       "      <td>Asad Rauf</td>\n",
       "      <td>RE Koertzen</td>\n",
       "    </tr>\n",
       "    <tr>\n",
       "      <th>1</th>\n",
       "      <td>335983</td>\n",
       "      <td>2007/08</td>\n",
       "      <td>Chandigarh</td>\n",
       "      <td>19-04-2008</td>\n",
       "      <td>League</td>\n",
       "      <td>MEK Hussey</td>\n",
       "      <td>Punjab Cricket Association Stadium, Mohali</td>\n",
       "      <td>Kings XI Punjab</td>\n",
       "      <td>Chennai Super Kings</td>\n",
       "      <td>Chennai Super Kings</td>\n",
       "      <td>bat</td>\n",
       "      <td>Chennai Super Kings</td>\n",
       "      <td>runs</td>\n",
       "      <td>33.0</td>\n",
       "      <td>241.0</td>\n",
       "      <td>20.0</td>\n",
       "      <td>N</td>\n",
       "      <td>Normal</td>\n",
       "      <td>MR Benson</td>\n",
       "      <td>SL Shastri</td>\n",
       "    </tr>\n",
       "    <tr>\n",
       "      <th>2</th>\n",
       "      <td>335984</td>\n",
       "      <td>2007/08</td>\n",
       "      <td>Delhi</td>\n",
       "      <td>19-04-2008</td>\n",
       "      <td>League</td>\n",
       "      <td>MF Maharoof</td>\n",
       "      <td>Feroz Shah Kotla</td>\n",
       "      <td>Delhi Daredevils</td>\n",
       "      <td>Rajasthan Royals</td>\n",
       "      <td>Rajasthan Royals</td>\n",
       "      <td>bat</td>\n",
       "      <td>Delhi Daredevils</td>\n",
       "      <td>wickets</td>\n",
       "      <td>9.0</td>\n",
       "      <td>130.0</td>\n",
       "      <td>20.0</td>\n",
       "      <td>N</td>\n",
       "      <td>Normal</td>\n",
       "      <td>Aleem Dar</td>\n",
       "      <td>GA Pratapkumar</td>\n",
       "    </tr>\n",
       "    <tr>\n",
       "      <th>3</th>\n",
       "      <td>335985</td>\n",
       "      <td>2007/08</td>\n",
       "      <td>Mumbai</td>\n",
       "      <td>20-04-2008</td>\n",
       "      <td>League</td>\n",
       "      <td>MV Boucher</td>\n",
       "      <td>Wankhede Stadium</td>\n",
       "      <td>Mumbai Indians</td>\n",
       "      <td>Royal Challengers Bangalore</td>\n",
       "      <td>Mumbai Indians</td>\n",
       "      <td>bat</td>\n",
       "      <td>Royal Challengers Bangalore</td>\n",
       "      <td>wickets</td>\n",
       "      <td>5.0</td>\n",
       "      <td>166.0</td>\n",
       "      <td>20.0</td>\n",
       "      <td>N</td>\n",
       "      <td>Normal</td>\n",
       "      <td>SJ Davis</td>\n",
       "      <td>DJ Harper</td>\n",
       "    </tr>\n",
       "    <tr>\n",
       "      <th>4</th>\n",
       "      <td>335986</td>\n",
       "      <td>2007/08</td>\n",
       "      <td>Kolkata</td>\n",
       "      <td>20-04-2008</td>\n",
       "      <td>League</td>\n",
       "      <td>DJ Hussey</td>\n",
       "      <td>Eden Gardens</td>\n",
       "      <td>Kolkata Knight Riders</td>\n",
       "      <td>Deccan Chargers</td>\n",
       "      <td>Deccan Chargers</td>\n",
       "      <td>bat</td>\n",
       "      <td>Kolkata Knight Riders</td>\n",
       "      <td>wickets</td>\n",
       "      <td>5.0</td>\n",
       "      <td>111.0</td>\n",
       "      <td>20.0</td>\n",
       "      <td>N</td>\n",
       "      <td>Normal</td>\n",
       "      <td>BF Bowden</td>\n",
       "      <td>K Hariharan</td>\n",
       "    </tr>\n",
       "  </tbody>\n",
       "</table>\n",
       "</div>"
      ],
      "text/plain": [
       "       id   season        city        date match_type player_of_match  \\\n",
       "0  335982  2007/08   Bangalore  18-04-2008     League     BB McCullum   \n",
       "1  335983  2007/08  Chandigarh  19-04-2008     League      MEK Hussey   \n",
       "2  335984  2007/08       Delhi  19-04-2008     League     MF Maharoof   \n",
       "3  335985  2007/08      Mumbai  20-04-2008     League      MV Boucher   \n",
       "4  335986  2007/08     Kolkata  20-04-2008     League       DJ Hussey   \n",
       "\n",
       "                                        venue                        team1  \\\n",
       "0                       M Chinnaswamy Stadium  Royal Challengers Bangalore   \n",
       "1  Punjab Cricket Association Stadium, Mohali              Kings XI Punjab   \n",
       "2                            Feroz Shah Kotla             Delhi Daredevils   \n",
       "3                            Wankhede Stadium               Mumbai Indians   \n",
       "4                                Eden Gardens        Kolkata Knight Riders   \n",
       "\n",
       "                         team2                  toss_winner toss_decision  \\\n",
       "0        Kolkata Knight Riders  Royal Challengers Bangalore         field   \n",
       "1          Chennai Super Kings          Chennai Super Kings           bat   \n",
       "2             Rajasthan Royals             Rajasthan Royals           bat   \n",
       "3  Royal Challengers Bangalore               Mumbai Indians           bat   \n",
       "4              Deccan Chargers              Deccan Chargers           bat   \n",
       "\n",
       "                        winner   result  result_margin  target_runs  \\\n",
       "0        Kolkata Knight Riders     runs          140.0        223.0   \n",
       "1          Chennai Super Kings     runs           33.0        241.0   \n",
       "2             Delhi Daredevils  wickets            9.0        130.0   \n",
       "3  Royal Challengers Bangalore  wickets            5.0        166.0   \n",
       "4        Kolkata Knight Riders  wickets            5.0        111.0   \n",
       "\n",
       "   target_overs super_over  method    umpire1         umpire2  \n",
       "0          20.0          N  Normal  Asad Rauf     RE Koertzen  \n",
       "1          20.0          N  Normal  MR Benson      SL Shastri  \n",
       "2          20.0          N  Normal  Aleem Dar  GA Pratapkumar  \n",
       "3          20.0          N  Normal   SJ Davis       DJ Harper  \n",
       "4          20.0          N  Normal  BF Bowden     K Hariharan  "
      ]
     },
     "execution_count": 52,
     "metadata": {},
     "output_type": "execute_result"
    }
   ],
   "source": [
    "\n",
    "import pandas as pd\n",
    "df = pd.read_csv(r\"Downloads/matches_cleaned.csv\")\n",
    "df.head()\n"
   ]
  },
  {
   "cell_type": "code",
   "execution_count": 53,
   "id": "6beeae0a-7bf3-4d46-8df1-e83f580a9795",
   "metadata": {},
   "outputs": [
    {
     "name": "stdout",
     "output_type": "stream",
     "text": [
      "Mumbai Indians                 261\n",
      "Kolkata Knight Riders          251\n",
      "Royal Challengers Bangalore    240\n",
      "Chennai Super Kings            238\n",
      "Rajasthan Royals               221\n",
      "Kings XI Punjab                190\n",
      "Sunrisers Hyderabad            182\n",
      "Delhi Daredevils               161\n",
      "Delhi Capitals                  91\n",
      "Deccan Chargers                 75\n",
      "Punjab Kings                    56\n",
      "Pune Warriors                   46\n",
      "Gujarat Titans                  45\n",
      "Lucknow Super Giants            44\n",
      "Gujarat Lions                   30\n",
      "Rising Pune Supergiant          16\n",
      "Royal Challengers Bengaluru     15\n",
      "Kochi Tuskers Kerala            14\n",
      "Rising Pune Supergiants         14\n",
      "Name: count, dtype: int64\n"
     ]
    }
   ],
   "source": [
    "# no of matches played by all teams\n",
    "matches_per_team = df['team1'].value_counts() + df['team2'].value_counts()\n",
    "matches_per_team = matches_per_team.sort_values(ascending=False)\n",
    "print(matches_per_team)\n"
   ]
  },
  {
   "cell_type": "code",
   "execution_count": 54,
   "id": "cc2359fb-a49e-49ed-a55d-47d10e6fb6a9",
   "metadata": {},
   "outputs": [
    {
     "name": "stdout",
     "output_type": "stream",
     "text": [
      "Most Successful Team(s):\n",
      "winner\n",
      "Mumbai Indians                 144\n",
      "Chennai Super Kings            138\n",
      "Kolkata Knight Riders          131\n",
      "Royal Challengers Bangalore    116\n",
      "Rajasthan Royals               112\n",
      "Kings XI Punjab                 88\n",
      "Sunrisers Hyderabad             88\n",
      "Delhi Daredevils                67\n",
      "Delhi Capitals                  48\n",
      "Deccan Chargers                 29\n",
      "Gujarat Titans                  28\n",
      "Lucknow Super Giants            24\n",
      "Punjab Kings                    24\n",
      "Gujarat Lions                   13\n",
      "Pune Warriors                   12\n",
      "Rising Pune Supergiant          10\n",
      "Royal Challengers Bengaluru      7\n",
      "Kochi Tuskers Kerala             6\n",
      "Rising Pune Supergiants          5\n",
      "Name: count, dtype: int64\n"
     ]
    }
   ],
   "source": [
    "# most sucessfull teams in the ipl\n",
    "wins = df['winner'].value_counts().sort_values(ascending=False)\n",
    "print(\"Most Successful Team(s):\")\n",
    "print(wins)\n"
   ]
  },
  {
   "cell_type": "code",
   "execution_count": 55,
   "id": "1cebf211-fed9-496c-9bff-7a2f0c9d1a48",
   "metadata": {},
   "outputs": [
    {
     "name": "stdout",
     "output_type": "stream",
     "text": [
      "Wins when batting first: 177\n",
      "Wins when fielding first: 377\n"
     ]
    }
   ],
   "source": [
    "# no of wins when batiing first or chasing\n",
    "bat_first_wins = df[(df['toss_decision'] == 'bat') & (df['toss_winner'] == df['winner'])].shape[0]\n",
    "field_first_wins = df[(df['toss_decision'] == 'field') & (df['toss_winner'] == df['winner'])].shape[0]\n",
    "\n",
    "print(f\"Wins when batting first: {bat_first_wins}\")\n",
    "print(f\"Wins when fielding first: {field_first_wins}\")\n",
    "\n"
   ]
  },
  {
   "cell_type": "code",
   "execution_count": 56,
   "id": "bd15a7b1-827a-42d1-b1d4-3e8a9dc5edc9",
   "metadata": {},
   "outputs": [
    {
     "name": "stdout",
     "output_type": "stream",
     "text": [
      "venue\n",
      "Eden Gardens                                                             77\n",
      "Wankhede Stadium                                                         73\n",
      "M Chinnaswamy Stadium                                                    65\n",
      "Feroz Shah Kotla                                                         60\n",
      "Rajiv Gandhi International Stadium, Uppal                                49\n",
      "MA Chidambaram Stadium, Chepauk                                          48\n",
      "Sawai Mansingh Stadium                                                   47\n",
      "Dubai International Cricket Stadium                                      46\n",
      "Wankhede Stadium, Mumbai                                                 45\n",
      "Punjab Cricket Association Stadium, Mohali                               35\n",
      "Sheikh Zayed Stadium                                                     29\n",
      "Sharjah Cricket Stadium                                                  28\n",
      "MA Chidambaram Stadium, Chepauk, Chennai                                 28\n",
      "Narendra Modi Stadium, Ahmedabad                                         24\n",
      "Maharashtra Cricket Association Stadium                                  22\n",
      "Dr DY Patil Sports Academy, Mumbai                                       20\n",
      "Brabourne Stadium, Mumbai                                                17\n",
      "Dr DY Patil Sports Academy                                               17\n",
      "Eden Gardens, Kolkata                                                    16\n",
      "Subrata Roy Sahara Stadium                                               16\n",
      "Arun Jaitley Stadium, Delhi                                              16\n",
      "Rajiv Gandhi International Stadium                                       15\n",
      "M.Chinnaswamy Stadium                                                    15\n",
      "Kingsmead                                                                15\n",
      "Arun Jaitley Stadium                                                     14\n",
      "Bharat Ratna Shri Atal Bihari Vajpayee Ekana Cricket Stadium, Lucknow    14\n",
      "M Chinnaswamy Stadium, Bengaluru                                         14\n",
      "Rajiv Gandhi International Stadium, Uppal, Hyderabad                     13\n",
      "Maharashtra Cricket Association Stadium, Pune                            13\n",
      "Dr. Y.S. Rajasekhara Reddy ACA-VDCA Cricket Stadium                      13\n",
      "SuperSport Park                                                          12\n",
      "Sardar Patel Stadium, Motera                                             12\n",
      "Punjab Cricket Association IS Bindra Stadium, Mohali                     11\n",
      "Sawai Mansingh Stadium, Jaipur                                           10\n",
      "Saurashtra Cricket Association Stadium                                   10\n",
      "Brabourne Stadium                                                        10\n",
      "Punjab Cricket Association IS Bindra Stadium                             10\n",
      "Himachal Pradesh Cricket Association Stadium                              9\n",
      "MA Chidambaram Stadium                                                    9\n",
      "Holkar Cricket Stadium                                                    9\n",
      "New Wanderers Stadium                                                     8\n",
      "Zayed Cricket Stadium, Abu Dhabi                                          8\n",
      "JSCA International Stadium Complex                                        7\n",
      "Barabati Stadium                                                          7\n",
      "St George's Park                                                          7\n",
      "Newlands                                                                  7\n",
      "Shaheed Veer Narayan Singh International Stadium                          6\n",
      "Nehru Stadium                                                             5\n",
      "Punjab Cricket Association IS Bindra Stadium, Mohali, Chandigarh          5\n",
      "Maharaja Yadavindra Singh International Cricket Stadium, Mullanpur        5\n",
      "Green Park                                                                4\n",
      "Himachal Pradesh Cricket Association Stadium, Dharamsala                  4\n",
      "Vidarbha Cricket Association Stadium, Jamtha                              3\n",
      "De Beers Diamond Oval                                                     3\n",
      "Buffalo Park                                                              3\n",
      "Barsapara Cricket Stadium, Guwahati                                       3\n",
      "OUTsurance Oval                                                           2\n",
      "Dr. Y.S. Rajasekhara Reddy ACA-VDCA Cricket Stadium, Visakhapatnam        2\n",
      "Name: count, dtype: int64\n"
     ]
    }
   ],
   "source": [
    "# venues with most matches played\n",
    "venue_counts = df['venue'].value_counts()\n",
    "print(venue_counts)\n",
    "\n"
   ]
  },
  {
   "cell_type": "code",
   "execution_count": 57,
   "id": "09d8cb71-dc09-43d9-bb0e-737b5fbf9741",
   "metadata": {},
   "outputs": [
    {
     "data": {
      "image/png": "[encoded data removed]",
      "text/plain": [
       "<Figure size 1000x500 with 1 Axes>"
      ]
     },
     "metadata": {},
     "output_type": "display_data"
    }
   ],
   "source": [
    "# matches per season\n",
    "import matplotlib.pyplot as plt\n",
    "\n",
    "matches_per_season = df['season'].value_counts().sort_index()\n",
    "matches_per_season.plot(kind='bar', figsize=(10, 5), color='skyblue')\n",
    "plt.title('Matches per Season')\n",
    "plt.xlabel('Season')\n",
    "plt.ylabel('Number of Matches')\n",
    "plt.xticks(rotation=45)\n",
    "plt.show()\n",
    "\n"
   ]
  },
  {
   "cell_type": "code",
   "execution_count": 58,
   "id": "550cda68-50b1-4f08-8b4b-e07bdc8c7144",
   "metadata": {},
   "outputs": [
    {
     "name": "stdout",
     "output_type": "stream",
     "text": [
      "Toss winner also won the match in 554 out of 1095 matches.\n"
     ]
    }
   ],
   "source": [
    "# toss winners vs match winners\n",
    "same_winner = (df['toss_winner'] == df['winner']).sum()\n",
    "total = df.shape[0]\n",
    "print(f\"Toss winner also won the match in {same_winner} out of {total} matches.\")\n"
   ]
  },
  {
   "cell_type": "code",
   "execution_count": 67,
   "id": "0ecafbdb-b060-4e4e-b6b7-200ee086bb92",
   "metadata": {},
   "outputs": [
    {
     "name": "stdout",
     "output_type": "stream",
     "text": [
      "Win based on Toss Decision:\n",
      " toss_decision\n",
      "field    377\n",
      "bat      177\n",
      "Name: count, dtype: int64\n"
     ]
    }
   ],
   "source": [
    "# win percentage by toss decision\n",
    "decisions = df[df['toss_winner'] == df['winner']]['toss_decision'].value_counts()\n",
    "print(\"Win based on Toss Decision:\\n\", decisions)\n"
   ]
  },
  {
   "cell_type": "code",
   "execution_count": null,
   "id": "a6b08587-6643-4d7f-a2e4-32d825e5c6e4",
   "metadata": {},
   "outputs": [],
   "source": []
  }
 ],
 "metadata": {
  "kernelspec": {
   "display_name": "Python 3 (ipykernel)",
   "language": "python",
   "name": "python3"
  },
  "language_info": {
   "codemirror_mode": {
    "name": "ipython",
    "version": 3
   },
   "file_extension": ".py",
   "mimetype": "text/x-python",
   "name": "python",
   "nbconvert_exporter": "python",
   "pygments_lexer": "ipython3",
   "version": "3.12.7"
  }
 },
 "nbformat": 4,
 "nbformat_minor": 5
}
