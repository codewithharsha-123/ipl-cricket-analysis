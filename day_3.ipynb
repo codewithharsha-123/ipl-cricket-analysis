{
 "cells": [
  {
   "cell_type": "markdown",
   "id": "b181b132-2c03-4a59-8f5b-fd07d5563571",
   "metadata": {},
   "source": [
    "# day3 player-level analysis on deliveries dataset"
   ]
  },
  {
   "cell_type": "code",
   "execution_count": 44,
   "id": "314efe8c-3e14-4f0c-b5fc-2974aafe8b83",
   "metadata": {},
   "outputs": [
    {
     "data": {
      "text/html": [
       "<div>\n",
       "<style scoped>\n",
       "    .dataframe tbody tr th:only-of-type {\n",
       "        vertical-align: middle;\n",
       "    }\n",
       "\n",
       "    .dataframe tbody tr th {\n",
       "        vertical-align: top;\n",
       "    }\n",
       "\n",
       "    .dataframe thead th {\n",
       "        text-align: right;\n",
       "    }\n",
       "</style>\n",
       "<table border=\"1\" class=\"dataframe\">\n",
       "  <thead>\n",
       "    <tr style=\"text-align: right;\">\n",
       "      <th></th>\n",
       "      <th>match_id</th>\n",
       "      <th>inning</th>\n",
       "      <th>batting_team</th>\n",
       "      <th>bowling_team</th>\n",
       "      <th>over</th>\n",
       "      <th>ball</th>\n",
       "      <th>batter</th>\n",
       "      <th>bowler</th>\n",
       "      <th>non_striker</th>\n",
       "      <th>batsman_runs</th>\n",
       "      <th>extra_runs</th>\n",
       "      <th>total_runs</th>\n",
       "      <th>extras_type</th>\n",
       "      <th>is_wicket</th>\n",
       "      <th>player_dismissed</th>\n",
       "      <th>dismissal_kind</th>\n",
       "      <th>fielder</th>\n",
       "    </tr>\n",
       "  </thead>\n",
       "  <tbody>\n",
       "    <tr>\n",
       "      <th>0</th>\n",
       "      <td>335982</td>\n",
       "      <td>1</td>\n",
       "      <td>Kolkata Knight Riders</td>\n",
       "      <td>Royal Challengers Bangalore</td>\n",
       "      <td>0</td>\n",
       "      <td>1</td>\n",
       "      <td>SC Ganguly</td>\n",
       "      <td>P Kumar</td>\n",
       "      <td>BB McCullum</td>\n",
       "      <td>0</td>\n",
       "      <td>1</td>\n",
       "      <td>1</td>\n",
       "      <td>legbyes</td>\n",
       "      <td>0</td>\n",
       "      <td>NaN</td>\n",
       "      <td>NaN</td>\n",
       "      <td>NaN</td>\n",
       "    </tr>\n",
       "    <tr>\n",
       "      <th>1</th>\n",
       "      <td>335982</td>\n",
       "      <td>1</td>\n",
       "      <td>Kolkata Knight Riders</td>\n",
       "      <td>Royal Challengers Bangalore</td>\n",
       "      <td>0</td>\n",
       "      <td>2</td>\n",
       "      <td>BB McCullum</td>\n",
       "      <td>P Kumar</td>\n",
       "      <td>SC Ganguly</td>\n",
       "      <td>0</td>\n",
       "      <td>0</td>\n",
       "      <td>0</td>\n",
       "      <td>NaN</td>\n",
       "      <td>0</td>\n",
       "      <td>NaN</td>\n",
       "      <td>NaN</td>\n",
       "      <td>NaN</td>\n",
       "    </tr>\n",
       "    <tr>\n",
       "      <th>2</th>\n",
       "      <td>335982</td>\n",
       "      <td>1</td>\n",
       "      <td>Kolkata Knight Riders</td>\n",
       "      <td>Royal Challengers Bangalore</td>\n",
       "      <td>0</td>\n",
       "      <td>3</td>\n",
       "      <td>BB McCullum</td>\n",
       "      <td>P Kumar</td>\n",
       "      <td>SC Ganguly</td>\n",
       "      <td>0</td>\n",
       "      <td>1</td>\n",
       "      <td>1</td>\n",
       "      <td>wides</td>\n",
       "      <td>0</td>\n",
       "      <td>NaN</td>\n",
       "      <td>NaN</td>\n",
       "      <td>NaN</td>\n",
       "    </tr>\n",
       "    <tr>\n",
       "      <th>3</th>\n",
       "      <td>335982</td>\n",
       "      <td>1</td>\n",
       "      <td>Kolkata Knight Riders</td>\n",
       "      <td>Royal Challengers Bangalore</td>\n",
       "      <td>0</td>\n",
       "      <td>4</td>\n",
       "      <td>BB McCullum</td>\n",
       "      <td>P Kumar</td>\n",
       "      <td>SC Ganguly</td>\n",
       "      <td>0</td>\n",
       "      <td>0</td>\n",
       "      <td>0</td>\n",
       "      <td>NaN</td>\n",
       "      <td>0</td>\n",
       "      <td>NaN</td>\n",
       "      <td>NaN</td>\n",
       "      <td>NaN</td>\n",
       "    </tr>\n",
       "    <tr>\n",
       "      <th>4</th>\n",
       "      <td>335982</td>\n",
       "      <td>1</td>\n",
       "      <td>Kolkata Knight Riders</td>\n",
       "      <td>Royal Challengers Bangalore</td>\n",
       "      <td>0</td>\n",
       "      <td>5</td>\n",
       "      <td>BB McCullum</td>\n",
       "      <td>P Kumar</td>\n",
       "      <td>SC Ganguly</td>\n",
       "      <td>0</td>\n",
       "      <td>0</td>\n",
       "      <td>0</td>\n",
       "      <td>NaN</td>\n",
       "      <td>0</td>\n",
       "      <td>NaN</td>\n",
       "      <td>NaN</td>\n",
       "      <td>NaN</td>\n",
       "    </tr>\n",
       "  </tbody>\n",
       "</table>\n",
       "</div>"
      ],
      "text/plain": [
       "   match_id  inning           batting_team                 bowling_team  over  \\\n",
       "0    335982       1  Kolkata Knight Riders  Royal Challengers Bangalore     0   \n",
       "1    335982       1  Kolkata Knight Riders  Royal Challengers Bangalore     0   \n",
       "2    335982       1  Kolkata Knight Riders  Royal Challengers Bangalore     0   \n",
       "3    335982       1  Kolkata Knight Riders  Royal Challengers Bangalore     0   \n",
       "4    335982       1  Kolkata Knight Riders  Royal Challengers Bangalore     0   \n",
       "\n",
       "   ball       batter   bowler  non_striker  batsman_runs  extra_runs  \\\n",
       "0     1   SC Ganguly  P Kumar  BB McCullum             0           1   \n",
       "1     2  BB McCullum  P Kumar   SC Ganguly             0           0   \n",
       "2     3  BB McCullum  P Kumar   SC Ganguly             0           1   \n",
       "3     4  BB McCullum  P Kumar   SC Ganguly             0           0   \n",
       "4     5  BB McCullum  P Kumar   SC Ganguly             0           0   \n",
       "\n",
       "   total_runs extras_type  is_wicket player_dismissed dismissal_kind fielder  \n",
       "0           1     legbyes          0              NaN            NaN     NaN  \n",
       "1           0         NaN          0              NaN            NaN     NaN  \n",
       "2           1       wides          0              NaN            NaN     NaN  \n",
       "3           0         NaN          0              NaN            NaN     NaN  \n",
       "4           0         NaN          0              NaN            NaN     NaN  "
      ]
     },
     "execution_count": 44,
     "metadata": {},
     "output_type": "execute_result"
    }
   ],
   "source": [
    "import pandas as pd\n",
    "\n",
    "deliveries = pd.read_csv(r\"C:\\Users\\91789\\Downloads\\deliveries.csv\\deliveries.csv\")\n",
    "deliveries.head()\n"
   ]
  },
  {
   "cell_type": "code",
   "execution_count": 45,
   "id": "af2a76b4-5ea2-44fc-b159-e827dc0555bd",
   "metadata": {},
   "outputs": [
    {
     "data": {
      "text/plain": [
       "<bound method DataFrame.info of         match_id  inning           batting_team                 bowling_team  \\\n",
       "0         335982       1  Kolkata Knight Riders  Royal Challengers Bangalore   \n",
       "1         335982       1  Kolkata Knight Riders  Royal Challengers Bangalore   \n",
       "2         335982       1  Kolkata Knight Riders  Royal Challengers Bangalore   \n",
       "3         335982       1  Kolkata Knight Riders  Royal Challengers Bangalore   \n",
       "4         335982       1  Kolkata Knight Riders  Royal Challengers Bangalore   \n",
       "...          ...     ...                    ...                          ...   \n",
       "260915   1426312       2  Kolkata Knight Riders          Sunrisers Hyderabad   \n",
       "260916   1426312       2  Kolkata Knight Riders          Sunrisers Hyderabad   \n",
       "260917   1426312       2  Kolkata Knight Riders          Sunrisers Hyderabad   \n",
       "260918   1426312       2  Kolkata Knight Riders          Sunrisers Hyderabad   \n",
       "260919   1426312       2  Kolkata Knight Riders          Sunrisers Hyderabad   \n",
       "\n",
       "        over  ball       batter         bowler  non_striker  batsman_runs  \\\n",
       "0          0     1   SC Ganguly        P Kumar  BB McCullum             0   \n",
       "1          0     2  BB McCullum        P Kumar   SC Ganguly             0   \n",
       "2          0     3  BB McCullum        P Kumar   SC Ganguly             0   \n",
       "3          0     4  BB McCullum        P Kumar   SC Ganguly             0   \n",
       "4          0     5  BB McCullum        P Kumar   SC Ganguly             0   \n",
       "...      ...   ...          ...            ...          ...           ...   \n",
       "260915     9     5      SS Iyer     AK Markram      VR Iyer             1   \n",
       "260916     9     6      VR Iyer     AK Markram      SS Iyer             1   \n",
       "260917    10     1      VR Iyer  Shahbaz Ahmed      SS Iyer             1   \n",
       "260918    10     2      SS Iyer  Shahbaz Ahmed      VR Iyer             1   \n",
       "260919    10     3      VR Iyer  Shahbaz Ahmed      SS Iyer             1   \n",
       "\n",
       "        extra_runs  total_runs extras_type  is_wicket player_dismissed  \\\n",
       "0                1           1     legbyes          0              NaN   \n",
       "1                0           0         NaN          0              NaN   \n",
       "2                1           1       wides          0              NaN   \n",
       "3                0           0         NaN          0              NaN   \n",
       "4                0           0         NaN          0              NaN   \n",
       "...            ...         ...         ...        ...              ...   \n",
       "260915           0           1         NaN          0              NaN   \n",
       "260916           0           1         NaN          0              NaN   \n",
       "260917           0           1         NaN          0              NaN   \n",
       "260918           0           1         NaN          0              NaN   \n",
       "260919           0           1         NaN          0              NaN   \n",
       "\n",
       "       dismissal_kind fielder  \n",
       "0                 NaN     NaN  \n",
       "1                 NaN     NaN  \n",
       "2                 NaN     NaN  \n",
       "3                 NaN     NaN  \n",
       "4                 NaN     NaN  \n",
       "...               ...     ...  \n",
       "260915            NaN     NaN  \n",
       "260916            NaN     NaN  \n",
       "260917            NaN     NaN  \n",
       "260918            NaN     NaN  \n",
       "260919            NaN     NaN  \n",
       "\n",
       "[260920 rows x 17 columns]>"
      ]
     },
     "execution_count": 45,
     "metadata": {},
     "output_type": "execute_result"
    }
   ],
   "source": [
    "deliveries.info"
   ]
  },
  {
   "cell_type": "code",
   "execution_count": 46,
   "id": "fe6d4169-dbe1-4b3b-bd92-267699b450e4",
   "metadata": {},
   "outputs": [
    {
     "data": {
      "text/plain": [
       "<bound method NDFrame.describe of         match_id  inning           batting_team                 bowling_team  \\\n",
       "0         335982       1  Kolkata Knight Riders  Royal Challengers Bangalore   \n",
       "1         335982       1  Kolkata Knight Riders  Royal Challengers Bangalore   \n",
       "2         335982       1  Kolkata Knight Riders  Royal Challengers Bangalore   \n",
       "3         335982       1  Kolkata Knight Riders  Royal Challengers Bangalore   \n",
       "4         335982       1  Kolkata Knight Riders  Royal Challengers Bangalore   \n",
       "...          ...     ...                    ...                          ...   \n",
       "260915   1426312       2  Kolkata Knight Riders          Sunrisers Hyderabad   \n",
       "260916   1426312       2  Kolkata Knight Riders          Sunrisers Hyderabad   \n",
       "260917   1426312       2  Kolkata Knight Riders          Sunrisers Hyderabad   \n",
       "260918   1426312       2  Kolkata Knight Riders          Sunrisers Hyderabad   \n",
       "260919   1426312       2  Kolkata Knight Riders          Sunrisers Hyderabad   \n",
       "\n",
       "        over  ball       batter         bowler  non_striker  batsman_runs  \\\n",
       "0          0     1   SC Ganguly        P Kumar  BB McCullum             0   \n",
       "1          0     2  BB McCullum        P Kumar   SC Ganguly             0   \n",
       "2          0     3  BB McCullum        P Kumar   SC Ganguly             0   \n",
       "3          0     4  BB McCullum        P Kumar   SC Ganguly             0   \n",
       "4          0     5  BB McCullum        P Kumar   SC Ganguly             0   \n",
       "...      ...   ...          ...            ...          ...           ...   \n",
       "260915     9     5      SS Iyer     AK Markram      VR Iyer             1   \n",
       "260916     9     6      VR Iyer     AK Markram      SS Iyer             1   \n",
       "260917    10     1      VR Iyer  Shahbaz Ahmed      SS Iyer             1   \n",
       "260918    10     2      SS Iyer  Shahbaz Ahmed      VR Iyer             1   \n",
       "260919    10     3      VR Iyer  Shahbaz Ahmed      SS Iyer             1   \n",
       "\n",
       "        extra_runs  total_runs extras_type  is_wicket player_dismissed  \\\n",
       "0                1           1     legbyes          0              NaN   \n",
       "1                0           0         NaN          0              NaN   \n",
       "2                1           1       wides          0              NaN   \n",
       "3                0           0         NaN          0              NaN   \n",
       "4                0           0         NaN          0              NaN   \n",
       "...            ...         ...         ...        ...              ...   \n",
       "260915           0           1         NaN          0              NaN   \n",
       "260916           0           1         NaN          0              NaN   \n",
       "260917           0           1         NaN          0              NaN   \n",
       "260918           0           1         NaN          0              NaN   \n",
       "260919           0           1         NaN          0              NaN   \n",
       "\n",
       "       dismissal_kind fielder  \n",
       "0                 NaN     NaN  \n",
       "1                 NaN     NaN  \n",
       "2                 NaN     NaN  \n",
       "3                 NaN     NaN  \n",
       "4                 NaN     NaN  \n",
       "...               ...     ...  \n",
       "260915            NaN     NaN  \n",
       "260916            NaN     NaN  \n",
       "260917            NaN     NaN  \n",
       "260918            NaN     NaN  \n",
       "260919            NaN     NaN  \n",
       "\n",
       "[260920 rows x 17 columns]>"
      ]
     },
     "execution_count": 46,
     "metadata": {},
     "output_type": "execute_result"
    }
   ],
   "source": [
    "deliveries.describe"
   ]
  },
  {
   "cell_type": "code",
   "execution_count": 47,
   "id": "8237cf06-d6bb-4532-bced-93edbab6bd07",
   "metadata": {},
   "outputs": [
    {
     "data": {
      "text/html": [
       "<div>\n",
       "<style scoped>\n",
       "    .dataframe tbody tr th:only-of-type {\n",
       "        vertical-align: middle;\n",
       "    }\n",
       "\n",
       "    .dataframe tbody tr th {\n",
       "        vertical-align: top;\n",
       "    }\n",
       "\n",
       "    .dataframe thead th {\n",
       "        text-align: right;\n",
       "    }\n",
       "</style>\n",
       "<table border=\"1\" class=\"dataframe\">\n",
       "  <thead>\n",
       "    <tr style=\"text-align: right;\">\n",
       "      <th></th>\n",
       "      <th>match_id</th>\n",
       "      <th>inning</th>\n",
       "      <th>batting_team</th>\n",
       "      <th>bowling_team</th>\n",
       "      <th>over</th>\n",
       "      <th>ball</th>\n",
       "      <th>batter</th>\n",
       "      <th>bowler</th>\n",
       "      <th>non_striker</th>\n",
       "      <th>batsman_runs</th>\n",
       "      <th>extra_runs</th>\n",
       "      <th>total_runs</th>\n",
       "      <th>extras_type</th>\n",
       "      <th>is_wicket</th>\n",
       "      <th>player_dismissed</th>\n",
       "      <th>dismissal_kind</th>\n",
       "      <th>fielder</th>\n",
       "    </tr>\n",
       "  </thead>\n",
       "  <tbody>\n",
       "    <tr>\n",
       "      <th>0</th>\n",
       "      <td>335982</td>\n",
       "      <td>1</td>\n",
       "      <td>Kolkata Knight Riders</td>\n",
       "      <td>Royal Challengers Bangalore</td>\n",
       "      <td>0</td>\n",
       "      <td>1</td>\n",
       "      <td>SC Ganguly</td>\n",
       "      <td>P Kumar</td>\n",
       "      <td>BB McCullum</td>\n",
       "      <td>0</td>\n",
       "      <td>1</td>\n",
       "      <td>1</td>\n",
       "      <td>legbyes</td>\n",
       "      <td>0</td>\n",
       "      <td>NaN</td>\n",
       "      <td>NaN</td>\n",
       "      <td>NaN</td>\n",
       "    </tr>\n",
       "    <tr>\n",
       "      <th>1</th>\n",
       "      <td>335982</td>\n",
       "      <td>1</td>\n",
       "      <td>Kolkata Knight Riders</td>\n",
       "      <td>Royal Challengers Bangalore</td>\n",
       "      <td>0</td>\n",
       "      <td>2</td>\n",
       "      <td>BB McCullum</td>\n",
       "      <td>P Kumar</td>\n",
       "      <td>SC Ganguly</td>\n",
       "      <td>0</td>\n",
       "      <td>0</td>\n",
       "      <td>0</td>\n",
       "      <td>NaN</td>\n",
       "      <td>0</td>\n",
       "      <td>NaN</td>\n",
       "      <td>NaN</td>\n",
       "      <td>NaN</td>\n",
       "    </tr>\n",
       "    <tr>\n",
       "      <th>2</th>\n",
       "      <td>335982</td>\n",
       "      <td>1</td>\n",
       "      <td>Kolkata Knight Riders</td>\n",
       "      <td>Royal Challengers Bangalore</td>\n",
       "      <td>0</td>\n",
       "      <td>3</td>\n",
       "      <td>BB McCullum</td>\n",
       "      <td>P Kumar</td>\n",
       "      <td>SC Ganguly</td>\n",
       "      <td>0</td>\n",
       "      <td>1</td>\n",
       "      <td>1</td>\n",
       "      <td>wides</td>\n",
       "      <td>0</td>\n",
       "      <td>NaN</td>\n",
       "      <td>NaN</td>\n",
       "      <td>NaN</td>\n",
       "    </tr>\n",
       "    <tr>\n",
       "      <th>3</th>\n",
       "      <td>335982</td>\n",
       "      <td>1</td>\n",
       "      <td>Kolkata Knight Riders</td>\n",
       "      <td>Royal Challengers Bangalore</td>\n",
       "      <td>0</td>\n",
       "      <td>4</td>\n",
       "      <td>BB McCullum</td>\n",
       "      <td>P Kumar</td>\n",
       "      <td>SC Ganguly</td>\n",
       "      <td>0</td>\n",
       "      <td>0</td>\n",
       "      <td>0</td>\n",
       "      <td>NaN</td>\n",
       "      <td>0</td>\n",
       "      <td>NaN</td>\n",
       "      <td>NaN</td>\n",
       "      <td>NaN</td>\n",
       "    </tr>\n",
       "    <tr>\n",
       "      <th>4</th>\n",
       "      <td>335982</td>\n",
       "      <td>1</td>\n",
       "      <td>Kolkata Knight Riders</td>\n",
       "      <td>Royal Challengers Bangalore</td>\n",
       "      <td>0</td>\n",
       "      <td>5</td>\n",
       "      <td>BB McCullum</td>\n",
       "      <td>P Kumar</td>\n",
       "      <td>SC Ganguly</td>\n",
       "      <td>0</td>\n",
       "      <td>0</td>\n",
       "      <td>0</td>\n",
       "      <td>NaN</td>\n",
       "      <td>0</td>\n",
       "      <td>NaN</td>\n",
       "      <td>NaN</td>\n",
       "      <td>NaN</td>\n",
       "    </tr>\n",
       "  </tbody>\n",
       "</table>\n",
       "</div>"
      ],
      "text/plain": [
       "   match_id  inning           batting_team                 bowling_team  over  \\\n",
       "0    335982       1  Kolkata Knight Riders  Royal Challengers Bangalore     0   \n",
       "1    335982       1  Kolkata Knight Riders  Royal Challengers Bangalore     0   \n",
       "2    335982       1  Kolkata Knight Riders  Royal Challengers Bangalore     0   \n",
       "3    335982       1  Kolkata Knight Riders  Royal Challengers Bangalore     0   \n",
       "4    335982       1  Kolkata Knight Riders  Royal Challengers Bangalore     0   \n",
       "\n",
       "   ball       batter   bowler  non_striker  batsman_runs  extra_runs  \\\n",
       "0     1   SC Ganguly  P Kumar  BB McCullum             0           1   \n",
       "1     2  BB McCullum  P Kumar   SC Ganguly             0           0   \n",
       "2     3  BB McCullum  P Kumar   SC Ganguly             0           1   \n",
       "3     4  BB McCullum  P Kumar   SC Ganguly             0           0   \n",
       "4     5  BB McCullum  P Kumar   SC Ganguly             0           0   \n",
       "\n",
       "   total_runs extras_type  is_wicket player_dismissed dismissal_kind fielder  \n",
       "0           1     legbyes          0              NaN            NaN     NaN  \n",
       "1           0         NaN          0              NaN            NaN     NaN  \n",
       "2           1       wides          0              NaN            NaN     NaN  \n",
       "3           0         NaN          0              NaN            NaN     NaN  \n",
       "4           0         NaN          0              NaN            NaN     NaN  "
      ]
     },
     "execution_count": 47,
     "metadata": {},
     "output_type": "execute_result"
    }
   ],
   "source": [
    "deliveries.shape  # Rows, Columns\n",
    "deliveries.columns  # List of column names\n",
    "deliveries.head()  # View first few rows\n"
   ]
  },
  {
   "cell_type": "code",
   "execution_count": 48,
   "id": "d1c0f455-3e7a-4b0f-81d8-a91901b92e6e",
   "metadata": {},
   "outputs": [
    {
     "data": {
      "text/plain": [
       "match_id                 0\n",
       "inning                   0\n",
       "batting_team             0\n",
       "bowling_team             0\n",
       "over                     0\n",
       "ball                     0\n",
       "batter                   0\n",
       "bowler                   0\n",
       "non_striker              0\n",
       "batsman_runs             0\n",
       "extra_runs               0\n",
       "total_runs               0\n",
       "extras_type         246795\n",
       "is_wicket                0\n",
       "player_dismissed    247970\n",
       "dismissal_kind      247970\n",
       "fielder             251566\n",
       "dtype: int64"
      ]
     },
     "execution_count": 48,
     "metadata": {},
     "output_type": "execute_result"
    }
   ],
   "source": [
    "deliveries.isnull().sum()\n"
   ]
  },
  {
   "cell_type": "code",
   "execution_count": 49,
   "id": "642ffde8-2ecc-449a-8b7e-31223f1706c8",
   "metadata": {},
   "outputs": [
    {
     "data": {
      "text/plain": [
       "0    legbyes\n",
       "1        NaN\n",
       "2      wides\n",
       "3        NaN\n",
       "4        NaN\n",
       "5        NaN\n",
       "6    legbyes\n",
       "7        NaN\n",
       "8        NaN\n",
       "9        NaN\n",
       "Name: extras_type, dtype: object"
      ]
     },
     "execution_count": 49,
     "metadata": {},
     "output_type": "execute_result"
    }
   ],
   "source": [
    "deliveries['extras_type'].head(10)"
   ]
  },
  {
   "cell_type": "code",
   "execution_count": 50,
   "id": "d885fb09-31fd-454d-ab09-d45375486107",
   "metadata": {},
   "outputs": [
    {
     "name": "stdout",
     "output_type": "stream",
     "text": [
      "batter\n",
      "V Kohli           8014\n",
      "S Dhawan          6769\n",
      "RG Sharma         6630\n",
      "DA Warner         6567\n",
      "SK Raina          5536\n",
      "MS Dhoni          5243\n",
      "AB de Villiers    5181\n",
      "CH Gayle          4997\n",
      "RV Uthappa        4954\n",
      "KD Karthik        4843\n",
      "Name: batsman_runs, dtype: int64\n"
     ]
    }
   ],
   "source": [
    "# top run scorers by batter in ipl\n",
    "top_batsmen = deliveries.groupby('batter')['batsman_runs'].sum().sort_values(ascending=False).head(10)\n",
    "print(top_batsmen)\n"
   ]
  },
  {
   "cell_type": "code",
   "execution_count": 51,
   "id": "f28a499f-34d4-46df-ae23-082e796f8940",
   "metadata": {},
   "outputs": [
    {
     "name": "stdout",
     "output_type": "stream",
     "text": [
      "batter\n",
      "CH Gayle          359\n",
      "RG Sharma         281\n",
      "V Kohli           273\n",
      "AB de Villiers    253\n",
      "MS Dhoni          252\n",
      "DA Warner         236\n",
      "KA Pollard        224\n",
      "AD Russell        209\n",
      "SV Samson         206\n",
      "SK Raina          204\n",
      "dtype: int64\n"
     ]
    }
   ],
   "source": [
    "# most sixes hit by batters\n",
    "sixes = deliveries[deliveries['batsman_runs'] == 6]\n",
    "top_six_hitters = sixes.groupby('batter').size().sort_values(ascending=False).head(10)\n",
    "print(top_six_hitters)\n"
   ]
  },
  {
   "cell_type": "code",
   "execution_count": 52,
   "id": "41fa8138-8f6b-44a5-946d-570a8389f159",
   "metadata": {},
   "outputs": [
    {
     "name": "stdout",
     "output_type": "stream",
     "text": [
      "batter\n",
      "S Dhawan        768\n",
      "V Kohli         708\n",
      "DA Warner       663\n",
      "RG Sharma       599\n",
      "SK Raina        506\n",
      "G Gambhir       492\n",
      "RV Uthappa      481\n",
      "AM Rahane       479\n",
      "KD Karthik      466\n",
      "F du Plessis    422\n",
      "dtype: int64\n"
     ]
    }
   ],
   "source": [
    "# most fours hit by batter\n",
    "fours = deliveries[deliveries['batsman_runs'] == 4]\n",
    "top_four_hitters = fours.groupby('batter').size().sort_values(ascending=False).head(10)\n",
    "print(top_four_hitters)\n"
   ]
  },
  {
   "cell_type": "code",
   "execution_count": 53,
   "id": "ab476a57-aedf-430f-b534-35a67b07e71d",
   "metadata": {},
   "outputs": [
    {
     "name": "stdout",
     "output_type": "stream",
     "text": [
      "batter\n",
      "V Kohli       6236\n",
      "S Dhawan      5483\n",
      "RG Sharma     5183\n",
      "DA Warner     4849\n",
      "SK Raina      4177\n",
      "MS Dhoni      3947\n",
      "RV Uthappa    3927\n",
      "AM Rahane     3858\n",
      "KD Karthik    3687\n",
      "KL Rahul      3578\n",
      "dtype: int64\n"
     ]
    }
   ],
   "source": [
    "# most balls faced by batter\n",
    "balls_faced = deliveries.groupby('batter').size().sort_values(ascending=False).head(10)\n",
    "print(balls_faced)\n"
   ]
  },
  {
   "cell_type": "code",
   "execution_count": 54,
   "id": "bf693df3-9ffc-4f8b-b3b7-412e9202d442",
   "metadata": {},
   "outputs": [
    {
     "name": "stdout",
     "output_type": "stream",
     "text": [
      "bowler\n",
      "YS Chahal     213\n",
      "DJ Bravo      207\n",
      "PP Chawla     201\n",
      "SP Narine     200\n",
      "R Ashwin      198\n",
      "B Kumar       195\n",
      "SL Malinga    188\n",
      "A Mishra      183\n",
      "JJ Bumrah     182\n",
      "RA Jadeja     169\n",
      "Name: count, dtype: int64\n"
     ]
    }
   ],
   "source": [
    "# top wicket taker\n",
    "\n",
    "\n",
    "# Filter rows where a dismissal happened and player got out\n",
    "wickets = deliveries[deliveries['player_dismissed'].notnull()]\n",
    "\n",
    "# Group by bowler and count the dismissals\n",
    "top_wicket_takers = wickets['bowler'].value_counts().head(10)\n",
    "print(top_wicket_takers)\n"
   ]
  },
  {
   "cell_type": "code",
   "execution_count": 55,
   "id": "57950fa0-e188-4b9a-9a42-b94e9e812caa",
   "metadata": {},
   "outputs": [
    {
     "name": "stdout",
     "output_type": "stream",
     "text": [
      "bowler\n",
      "JP Faulkner    3\n",
      "SP Narine      3\n",
      "JJ Bumrah      3\n",
      "HV Patel       2\n",
      "SL Malinga     2\n",
      "AD Russell     2\n",
      "MM Sharma      2\n",
      "JD Unadkat     2\n",
      "AJ Tye         2\n",
      "B Kumar        2\n",
      "Name: count, dtype: int64\n"
     ]
    }
   ],
   "source": [
    "# 5 wicket haul\n",
    "# Filter out only the rows where a dismissal occurred\n",
    "wickets = deliveries[deliveries['player_dismissed'].notnull()]\n",
    "\n",
    "# Count wickets for each bowler in each match (by match ID)\n",
    "match_wickets = wickets.groupby(['match_id', 'bowler']).size().reset_index(name='wickets')\n",
    "\n",
    "# Filter bowlers who took 5 wickets or more in a match\n",
    "five_wicket_hauls = match_wickets[match_wickets['wickets'] >= 5]\n",
    "\n",
    "# Count the number of 5-wicket hauls for each bowler\n",
    "five_wicket_hauls_count = five_wicket_hauls['bowler'].value_counts().head(10)\n",
    "print(five_wicket_hauls_count)\n"
   ]
  },
  {
   "cell_type": "code",
   "execution_count": 56,
   "id": "e4abea16-47cf-48b3-971d-f89f2a2726e7",
   "metadata": {},
   "outputs": [
    {
     "name": "stdout",
     "output_type": "stream",
     "text": [
      "          batter     bowler  runs_scored  balls_faced\n",
      "5481   DA Warner  SP Narine          195          127\n",
      "26199    V Kohli   R Ashwin          179          153\n",
      "22509   SK Raina  PP Chawla          175          102\n",
      "19809  RG Sharma   UT Yadav          170          121\n",
      "26260    V Kohli   UT Yadav          168           98\n",
      "26003    V Kohli   A Mishra          162          108\n",
      "11627   KL Rahul  DL Chahar          158          103\n",
      "26062    V Kohli   DJ Bravo          157          110\n",
      "26208    V Kohli  RA Jadeja          157          148\n",
      "5515   DA Warner  YS Chahal          156           99\n"
     ]
    }
   ],
   "source": [
    "# Filter deliveries where batsman faced the bowler\n",
    "batsman_bowler_matchups = deliveries.groupby(['batter', 'bowler']).agg(\n",
    "    runs_scored=('batsman_runs', 'sum'),\n",
    "    balls_faced=('batsman_runs', 'count')\n",
    ").reset_index()\n",
    "\n",
    "# Display the top 10 matchups with highest runs\n",
    "top_batsman_bowler_matchups = batsman_bowler_matchups.sort_values(by='runs_scored', ascending=False).head(10)\n",
    "print(top_batsman_bowler_matchups)\n"
   ]
  },
  {
   "cell_type": "code",
   "execution_count": 57,
   "id": "a2ad244e-06bb-4731-b92e-9a766cd41167",
   "metadata": {},
   "outputs": [
    {
     "name": "stdout",
     "output_type": "stream",
     "text": [
      "MS Dhoni vs JJ Bumrah:\n",
      "Runs scored: 60\n",
      "Balls faced: 64\n",
      "Times dismissed: 3\n"
     ]
    }
   ],
   "source": [
    "# ms dhoni vs bumrah\n",
    "# Filter only deliveries where Dhoni faced Bumrah\n",
    "dhoni_vs_bumrah = deliveries[(deliveries['batter'] == 'MS Dhoni') & \n",
    "                             (deliveries['bowler'] == 'JJ Bumrah')]\n",
    "\n",
    "# Total runs scored\n",
    "runs = dhoni_vs_bumrah['batsman_runs'].sum()\n",
    "\n",
    "# Balls faced\n",
    "balls = dhoni_vs_bumrah.shape[0]\n",
    "\n",
    "# Dismissals\n",
    "dismissals = dhoni_vs_bumrah['player_dismissed'].value_counts().get('MS Dhoni', 0)\n",
    "\n",
    "# Output\n",
    "print(f\"MS Dhoni vs JJ Bumrah:\")\n",
    "print(f\"Runs scored: {runs}\")\n",
    "print(f\"Balls faced: {balls}\")\n",
    "print(f\"Times dismissed: {dismissals}\")\n"
   ]
  },
  {
   "cell_type": "code",
   "execution_count": 58,
   "id": "713d1d54-afcc-4075-a8e0-c6ee08f077ed",
   "metadata": {},
   "outputs": [
    {
     "name": "stdout",
     "output_type": "stream",
     "text": [
      "Best economy rates in death overs (min 5 overs):\n",
      "bowler\n",
      "M Theekshana     6.830769\n",
      "Sohail Tanvir    7.252747\n",
      "PWH de Silva     7.531915\n",
      "V Shankar        7.636364\n",
      "DE Bollinger     7.805825\n",
      "Noor Ahmad       7.875000\n",
      "M Ashwin         7.916667\n",
      "KH Pandya        7.935484\n",
      "Rashid Khan      7.973941\n",
      "CK Langeveldt    8.195122\n",
      "dtype: float64\n"
     ]
    }
   ],
   "source": [
    "# best economical bowler in the death overs\n",
    "\n",
    "# Filter for overs 16 to 20\n",
    "death_overs = deliveries[deliveries['over'] >= 16]\n",
    "\n",
    "# Same economy rate logic with filtering\n",
    "runs = death_overs.groupby('bowler')['total_runs'].sum()\n",
    "balls = death_overs[death_overs['extra_runs'] == 0].groupby('bowler').size()\n",
    "valid = balls[balls >= 30]\n",
    "econ = (runs[valid.index] / (valid / 6)).sort_values().head(10)\n",
    "\n",
    "print(\"Best economy rates in death overs (min 5 overs):\")\n",
    "print(econ)\n"
   ]
  },
  {
   "cell_type": "code",
   "execution_count": 59,
   "id": "6c8483c9-8fec-4998-ba58-28e1bb39f384",
   "metadata": {},
   "outputs": [
    {
     "name": "stdout",
     "output_type": "stream",
     "text": [
      "Most runs conceded by a bowler in a match:\n",
      "       match_id            bowler  total_runs\n",
      "12594   1426278         MM Sharma          73\n",
      "8169    1136611      Basil Thampi          70\n",
      "11379   1359487        Yash Dayal          69\n",
      "12633   1426281            L Wood          68\n",
      "12475   1426268        RJW Topley          68\n",
      "12211   1422126        KT Maphaka          67\n",
      "11771   1359520    Arshdeep Singh          66\n",
      "5211     734007    Sandeep Sharma          66\n",
      "8837    1178423  Mujeeb Ur Rahman          66\n",
      "4489     598051          I Sharma          66\n"
     ]
    }
   ],
   "source": [
    "# most runs conceded in a match\n",
    "runs_per_match = deliveries.groupby(['match_id', 'bowler'])['total_runs'].sum().reset_index()\n",
    "worst_10 = runs_per_match.sort_values(by='total_runs', ascending=False).head(10)\n",
    "\n",
    "print(\"Most runs conceded by a bowler in a match:\")\n",
    "print(worst_10)\n"
   ]
  },
  {
   "cell_type": "code",
   "execution_count": 60,
   "id": "f6ab0246-584f-4563-9011-cbf074998504",
   "metadata": {},
   "outputs": [
    {
     "name": "stdout",
     "output_type": "stream",
     "text": [
      "Top 10 wicket takers:\n",
      "bowler\n",
      "YS Chahal     213\n",
      "DJ Bravo      207\n",
      "PP Chawla     201\n",
      "SP Narine     200\n",
      "R Ashwin      198\n",
      "B Kumar       195\n",
      "SL Malinga    188\n",
      "A Mishra      183\n",
      "JJ Bumrah     182\n",
      "RA Jadeja     169\n",
      "Name: count, dtype: int64\n"
     ]
    }
   ],
   "source": [
    "# highest wicket taken by bowler in the ipl\n",
    "\n",
    "# Filter where a wicket was taken\n",
    "wickets = deliveries[deliveries['player_dismissed'].notnull()]\n",
    "\n",
    "# Count total dismissals per bowler\n",
    "top_wicket_takers = wickets['bowler'].value_counts().head(10)\n",
    "\n",
    "print(\"Top 10 wicket takers:\")\n",
    "print(top_wicket_takers)\n"
   ]
  },
  {
   "cell_type": "code",
   "execution_count": null,
   "id": "1d76c0f3-6fba-42f2-949d-e2f27a93bd82",
   "metadata": {},
   "outputs": [],
   "source": []
  }
 ],
 "metadata": {
  "kernelspec": {
   "display_name": "Python 3 (ipykernel)",
   "language": "python",
   "name": "python3"
  },
  "language_info": {
   "codemirror_mode": {
    "name": "ipython",
    "version": 3
   },
   "file_extension": ".py",
   "mimetype": "text/x-python",
   "name": "python",
   "nbconvert_exporter": "python",
   "pygments_lexer": "ipython3",
   "version": "3.12.7"
  }
 },
 "nbformat": 4,
 "nbformat_minor": 5
}
